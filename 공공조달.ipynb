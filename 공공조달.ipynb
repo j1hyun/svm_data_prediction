{
  "nbformat": 4,
  "nbformat_minor": 0,
  "metadata": {
    "colab": {
      "name": "공공조달",
      "provenance": [],
      "toc_visible": true
    },
    "kernelspec": {
      "name": "python3",
      "display_name": "Python 3"
    },
    "language_info": {
      "name": "python"
    }
  },
  "cells": [
    {
      "cell_type": "markdown",
      "source": [
        "# SVM"
      ],
      "metadata": {
        "id": "Cr01yrXLgoSW"
      }
    },
    {
      "cell_type": "code",
      "source": [
        "bdf = pd.read_csv('infolist.csv')\n",
        "bdf.set_index('기업명', inplace=True)"
      ],
      "metadata": {
        "id": "cu1V9gw7o8V4"
      },
      "execution_count": 27,
      "outputs": []
    },
    {
      "cell_type": "code",
      "source": [
        "from sklearn.svm import SVR\n",
        "from sklearn.model_selection import train_test_split\n",
        "from sklearn.preprocessing import MinMaxScaler\n",
        "\n",
        "# feature와 target 분리\n",
        "yt=np.array(bdf['금액합계2020'])\n",
        "xt=bdf.drop(['금액합계2020'], axis=1)\n",
        "xt=np.array(xt)\n",
        "\n",
        "scaler=MinMaxScaler()\n",
        "xt=scaler.fit_transform(xt)\n",
        "xtrain,xtest,ytrain,ytest=train_test_split(xt, yt, test_size=0.2, random_state=42)"
      ],
      "metadata": {
        "id": "e-Bn5P_Ho-3H"
      },
      "execution_count": 28,
      "outputs": []
    },
    {
      "cell_type": "code",
      "source": [
        "scores = []\n",
        "for thisC in [*range(3500000,3500010)]:\n",
        "    svr=SVR(kernel='rbf',C=thisC, gamma=.1)\n",
        "    model=svr.fit(xtrain,ytrain)\n",
        "    scoreTrain=model.score(xtrain,ytrain)\n",
        "    scoreTest=model.score(xtest,ytest)\n",
        "    print(\"rbf SVR : C:{}, training score:{:2f}, test score:{:2f}\".format\n",
        "          (thisC,scoreTrain, scoreTest))\n",
        "    scores.append([scoreTrain, scoreTest]) #training score와 test score 탐색, 현재 비율이 가장 score 높게 나왔음 이 코드 생략 가능"
      ],
      "metadata": {
        "id": "dyjuK5_OpIh8",
        "outputId": "4adb008d-8938-4b40-8a58-7b3ab203c0cf",
        "colab": {
          "base_uri": "https://localhost:8080/"
        }
      },
      "execution_count": 29,
      "outputs": [
        {
          "output_type": "stream",
          "name": "stdout",
          "text": [
            "rbf SVR : C:3500000, training score:0.989920, test score:0.993394\n",
            "rbf SVR : C:3500001, training score:0.989920, test score:0.993394\n",
            "rbf SVR : C:3500002, training score:0.989920, test score:0.993394\n",
            "rbf SVR : C:3500003, training score:0.989920, test score:0.993394\n",
            "rbf SVR : C:3500004, training score:0.989921, test score:0.993394\n",
            "rbf SVR : C:3500005, training score:0.989921, test score:0.993394\n",
            "rbf SVR : C:3500006, training score:0.989921, test score:0.993394\n",
            "rbf SVR : C:3500007, training score:0.989921, test score:0.993394\n",
            "rbf SVR : C:3500008, training score:0.989921, test score:0.993394\n",
            "rbf SVR : C:3500009, training score:0.989921, test score:0.993394\n"
          ]
        }
      ]
    },
    {
      "cell_type": "code",
      "source": [
        "test1=bdf.drop(['금액합계2017'],axis=1)\n",
        "testmat=np.array(test1)\n",
        "test1=scaler.fit_transform(test1)\n",
        "model=SVR(kernel='rbf', C=3500000, gamma=.1).fit(xtrain, ytrain) #2021년 예측\n",
        "\n",
        "prediction1=model.predict(test1)\n",
        "pred1=pd.DataFrame(prediction1, columns=['2021년 예측'])"
      ],
      "metadata": {
        "id": "QAp1WjJJpJ5w"
      },
      "execution_count": 30,
      "outputs": []
    },
    {
      "cell_type": "code",
      "source": [
        "test2=bdf.drop(['금액합계2020'],axis=1)\n",
        "testmat=np.array(test2)\n",
        "test2=scaler.fit_transform(test2)\n",
        "#test(DF -> array)\n",
        "model=SVR(kernel='rbf', C=3500000, gamma=.1).fit(xtrain, ytrain) #2020년 예측\n",
        "\n",
        "prediction2=model.predict(test2)\n",
        "pred2=pd.DataFrame(prediction2, columns=['2020년 예측'])"
      ],
      "metadata": {
        "id": "DEeTJFiCpNYI"
      },
      "execution_count": 31,
      "outputs": []
    },
    {
      "cell_type": "code",
      "source": [
        "predlst=[]\n",
        "for i in range(len(prediction1)):\n",
        "    if (prediction1[i]-prediction2[i]>0):\n",
        "        predlst.append('증가')\n",
        "    elif(prediction1[i]-prediction2[i]<0): \n",
        "        predlst.append('감소')\n",
        "    else:\n",
        "        predlst.append('동률')"
      ],
      "metadata": {
        "id": "tIrwNohmpThg"
      },
      "execution_count": 32,
      "outputs": []
    },
    {
      "cell_type": "code",
      "source": [
        "predic=pd.DataFrame(predlst, columns=['증감 예측'])\n",
        "\n",
        "predic = predic.set_index(bdf.index)"
      ],
      "metadata": {
        "id": "__V6i_TupXiY"
      },
      "execution_count": 33,
      "outputs": []
    },
    {
      "cell_type": "code",
      "source": [
        "predic"
      ],
      "metadata": {
        "id": "yg8yR2kbpbPg",
        "outputId": "011c2034-2a56-44e2-a410-7a53ad558be1",
        "colab": {
          "base_uri": "https://localhost:8080/",
          "height": 455
        }
      },
      "execution_count": 34,
      "outputs": [
        {
          "output_type": "execute_result",
          "data": {
            "text/html": [
              "\n",
              "  <div id=\"df-dc6ec911-01bd-4ade-ab64-7e828effadef\">\n",
              "    <div class=\"colab-df-container\">\n",
              "      <div>\n",
              "<style scoped>\n",
              "    .dataframe tbody tr th:only-of-type {\n",
              "        vertical-align: middle;\n",
              "    }\n",
              "\n",
              "    .dataframe tbody tr th {\n",
              "        vertical-align: top;\n",
              "    }\n",
              "\n",
              "    .dataframe thead th {\n",
              "        text-align: right;\n",
              "    }\n",
              "</style>\n",
              "<table border=\"1\" class=\"dataframe\">\n",
              "  <thead>\n",
              "    <tr style=\"text-align: right;\">\n",
              "      <th></th>\n",
              "      <th>증감 예측</th>\n",
              "    </tr>\n",
              "    <tr>\n",
              "      <th>기업명</th>\n",
              "      <th></th>\n",
              "    </tr>\n",
              "  </thead>\n",
              "  <tbody>\n",
              "    <tr>\n",
              "      <th>(유) 수현</th>\n",
              "      <td>감소</td>\n",
              "    </tr>\n",
              "    <tr>\n",
              "      <th>(유) 휴먼테크</th>\n",
              "      <td>증가</td>\n",
              "    </tr>\n",
              "    <tr>\n",
              "      <th>(유)고흥철망</th>\n",
              "      <td>증가</td>\n",
              "    </tr>\n",
              "    <tr>\n",
              "      <th>(유)대호이엔씨</th>\n",
              "      <td>증가</td>\n",
              "    </tr>\n",
              "    <tr>\n",
              "      <th>(유)도유</th>\n",
              "      <td>감소</td>\n",
              "    </tr>\n",
              "    <tr>\n",
              "      <th>...</th>\n",
              "      <td>...</td>\n",
              "    </tr>\n",
              "    <tr>\n",
              "      <th>흥진산업</th>\n",
              "      <td>증가</td>\n",
              "    </tr>\n",
              "    <tr>\n",
              "      <th>흥진산업</th>\n",
              "      <td>감소</td>\n",
              "    </tr>\n",
              "    <tr>\n",
              "      <th>흥진산업</th>\n",
              "      <td>증가</td>\n",
              "    </tr>\n",
              "    <tr>\n",
              "      <th>흥진산업</th>\n",
              "      <td>감소</td>\n",
              "    </tr>\n",
              "    <tr>\n",
              "      <th>흥창스틸</th>\n",
              "      <td>증가</td>\n",
              "    </tr>\n",
              "  </tbody>\n",
              "</table>\n",
              "<p>1086 rows × 1 columns</p>\n",
              "</div>\n",
              "      <button class=\"colab-df-convert\" onclick=\"convertToInteractive('df-dc6ec911-01bd-4ade-ab64-7e828effadef')\"\n",
              "              title=\"Convert this dataframe to an interactive table.\"\n",
              "              style=\"display:none;\">\n",
              "        \n",
              "  <svg xmlns=\"http://www.w3.org/2000/svg\" height=\"24px\"viewBox=\"0 0 24 24\"\n",
              "       width=\"24px\">\n",
              "    <path d=\"M0 0h24v24H0V0z\" fill=\"none\"/>\n",
              "    <path d=\"M18.56 5.44l.94 2.06.94-2.06 2.06-.94-2.06-.94-.94-2.06-.94 2.06-2.06.94zm-11 1L8.5 8.5l.94-2.06 2.06-.94-2.06-.94L8.5 2.5l-.94 2.06-2.06.94zm10 10l.94 2.06.94-2.06 2.06-.94-2.06-.94-.94-2.06-.94 2.06-2.06.94z\"/><path d=\"M17.41 7.96l-1.37-1.37c-.4-.4-.92-.59-1.43-.59-.52 0-1.04.2-1.43.59L10.3 9.45l-7.72 7.72c-.78.78-.78 2.05 0 2.83L4 21.41c.39.39.9.59 1.41.59.51 0 1.02-.2 1.41-.59l7.78-7.78 2.81-2.81c.8-.78.8-2.07 0-2.86zM5.41 20L4 18.59l7.72-7.72 1.47 1.35L5.41 20z\"/>\n",
              "  </svg>\n",
              "      </button>\n",
              "      \n",
              "  <style>\n",
              "    .colab-df-container {\n",
              "      display:flex;\n",
              "      flex-wrap:wrap;\n",
              "      gap: 12px;\n",
              "    }\n",
              "\n",
              "    .colab-df-convert {\n",
              "      background-color: #E8F0FE;\n",
              "      border: none;\n",
              "      border-radius: 50%;\n",
              "      cursor: pointer;\n",
              "      display: none;\n",
              "      fill: #1967D2;\n",
              "      height: 32px;\n",
              "      padding: 0 0 0 0;\n",
              "      width: 32px;\n",
              "    }\n",
              "\n",
              "    .colab-df-convert:hover {\n",
              "      background-color: #E2EBFA;\n",
              "      box-shadow: 0px 1px 2px rgba(60, 64, 67, 0.3), 0px 1px 3px 1px rgba(60, 64, 67, 0.15);\n",
              "      fill: #174EA6;\n",
              "    }\n",
              "\n",
              "    [theme=dark] .colab-df-convert {\n",
              "      background-color: #3B4455;\n",
              "      fill: #D2E3FC;\n",
              "    }\n",
              "\n",
              "    [theme=dark] .colab-df-convert:hover {\n",
              "      background-color: #434B5C;\n",
              "      box-shadow: 0px 1px 3px 1px rgba(0, 0, 0, 0.15);\n",
              "      filter: drop-shadow(0px 1px 2px rgba(0, 0, 0, 0.3));\n",
              "      fill: #FFFFFF;\n",
              "    }\n",
              "  </style>\n",
              "\n",
              "      <script>\n",
              "        const buttonEl =\n",
              "          document.querySelector('#df-dc6ec911-01bd-4ade-ab64-7e828effadef button.colab-df-convert');\n",
              "        buttonEl.style.display =\n",
              "          google.colab.kernel.accessAllowed ? 'block' : 'none';\n",
              "\n",
              "        async function convertToInteractive(key) {\n",
              "          const element = document.querySelector('#df-dc6ec911-01bd-4ade-ab64-7e828effadef');\n",
              "          const dataTable =\n",
              "            await google.colab.kernel.invokeFunction('convertToInteractive',\n",
              "                                                     [key], {});\n",
              "          if (!dataTable) return;\n",
              "\n",
              "          const docLinkHtml = 'Like what you see? Visit the ' +\n",
              "            '<a target=\"_blank\" href=https://colab.research.google.com/notebooks/data_table.ipynb>data table notebook</a>'\n",
              "            + ' to learn more about interactive tables.';\n",
              "          element.innerHTML = '';\n",
              "          dataTable['output_type'] = 'display_data';\n",
              "          await google.colab.output.renderOutput(dataTable, element);\n",
              "          const docLink = document.createElement('div');\n",
              "          docLink.innerHTML = docLinkHtml;\n",
              "          element.appendChild(docLink);\n",
              "        }\n",
              "      </script>\n",
              "    </div>\n",
              "  </div>\n",
              "  "
            ],
            "text/plain": [
              "         증감 예측\n",
              "기업명           \n",
              "(유) 수현      감소\n",
              "(유) 휴먼테크    증가\n",
              "(유)고흥철망     증가\n",
              "(유)대호이엔씨    증가\n",
              "(유)도유       감소\n",
              "...        ...\n",
              "흥진산업        증가\n",
              "흥진산업        감소\n",
              "흥진산업        증가\n",
              "흥진산업        감소\n",
              "흥창스틸        증가\n",
              "\n",
              "[1086 rows x 1 columns]"
            ]
          },
          "metadata": {},
          "execution_count": 34
        }
      ]
    },
    {
      "cell_type": "markdown",
      "source": [
        "# 정확도 시각화"
      ],
      "metadata": {
        "id": "TxhJUjnwpeXa"
      }
    },
    {
      "cell_type": "code",
      "source": [
        "realdf=bdf.loc[:,['금액합계2020']]\n",
        "\n",
        "realdf=realdf.astype(float)\n",
        "realdf = realdf.reset_index(drop=True)"
      ],
      "metadata": {
        "id": "m_SO2HJQphJR"
      },
      "execution_count": 48,
      "outputs": []
    },
    {
      "cell_type": "code",
      "source": [
        "p=pred1.join([pred2, realdf])\n"
      ],
      "metadata": {
        "id": "xdoe5okTp08k"
      },
      "execution_count": 50,
      "outputs": []
    },
    {
      "cell_type": "code",
      "source": [
        "p"
      ],
      "metadata": {
        "id": "1gV3Ctsyq3vv",
        "outputId": "e2c9dd47-4609-4507-893c-218f47fb44a4",
        "colab": {
          "base_uri": "https://localhost:8080/",
          "height": 423
        }
      },
      "execution_count": 51,
      "outputs": [
        {
          "output_type": "execute_result",
          "data": {
            "text/html": [
              "\n",
              "  <div id=\"df-12ff19aa-2e6e-4425-8e3c-e466e921371c\">\n",
              "    <div class=\"colab-df-container\">\n",
              "      <div>\n",
              "<style scoped>\n",
              "    .dataframe tbody tr th:only-of-type {\n",
              "        vertical-align: middle;\n",
              "    }\n",
              "\n",
              "    .dataframe tbody tr th {\n",
              "        vertical-align: top;\n",
              "    }\n",
              "\n",
              "    .dataframe thead th {\n",
              "        text-align: right;\n",
              "    }\n",
              "</style>\n",
              "<table border=\"1\" class=\"dataframe\">\n",
              "  <thead>\n",
              "    <tr style=\"text-align: right;\">\n",
              "      <th></th>\n",
              "      <th>2021년 예측</th>\n",
              "      <th>2020년 예측</th>\n",
              "      <th>금액합계2020</th>\n",
              "    </tr>\n",
              "  </thead>\n",
              "  <tbody>\n",
              "    <tr>\n",
              "      <th>0</th>\n",
              "      <td>12641.468241</td>\n",
              "      <td>12988.998491</td>\n",
              "      <td>11596.0</td>\n",
              "    </tr>\n",
              "    <tr>\n",
              "      <th>1</th>\n",
              "      <td>325781.771525</td>\n",
              "      <td>178830.199002</td>\n",
              "      <td>155870.0</td>\n",
              "    </tr>\n",
              "    <tr>\n",
              "      <th>2</th>\n",
              "      <td>50748.046234</td>\n",
              "      <td>33736.910210</td>\n",
              "      <td>31674.0</td>\n",
              "    </tr>\n",
              "    <tr>\n",
              "      <th>3</th>\n",
              "      <td>138284.723680</td>\n",
              "      <td>127817.925624</td>\n",
              "      <td>110348.0</td>\n",
              "    </tr>\n",
              "    <tr>\n",
              "      <th>4</th>\n",
              "      <td>19094.600784</td>\n",
              "      <td>39071.490485</td>\n",
              "      <td>37401.0</td>\n",
              "    </tr>\n",
              "    <tr>\n",
              "      <th>...</th>\n",
              "      <td>...</td>\n",
              "      <td>...</td>\n",
              "      <td>...</td>\n",
              "    </tr>\n",
              "    <tr>\n",
              "      <th>1081</th>\n",
              "      <td>27426.908680</td>\n",
              "      <td>16858.544850</td>\n",
              "      <td>18481.0</td>\n",
              "    </tr>\n",
              "    <tr>\n",
              "      <th>1082</th>\n",
              "      <td>-1162.301106</td>\n",
              "      <td>77075.380518</td>\n",
              "      <td>75421.0</td>\n",
              "    </tr>\n",
              "    <tr>\n",
              "      <th>1083</th>\n",
              "      <td>30750.479632</td>\n",
              "      <td>20243.098771</td>\n",
              "      <td>18481.0</td>\n",
              "    </tr>\n",
              "    <tr>\n",
              "      <th>1084</th>\n",
              "      <td>2862.866797</td>\n",
              "      <td>78988.914076</td>\n",
              "      <td>75421.0</td>\n",
              "    </tr>\n",
              "    <tr>\n",
              "      <th>1085</th>\n",
              "      <td>305916.921674</td>\n",
              "      <td>186523.220170</td>\n",
              "      <td>175786.0</td>\n",
              "    </tr>\n",
              "  </tbody>\n",
              "</table>\n",
              "<p>1086 rows × 3 columns</p>\n",
              "</div>\n",
              "      <button class=\"colab-df-convert\" onclick=\"convertToInteractive('df-12ff19aa-2e6e-4425-8e3c-e466e921371c')\"\n",
              "              title=\"Convert this dataframe to an interactive table.\"\n",
              "              style=\"display:none;\">\n",
              "        \n",
              "  <svg xmlns=\"http://www.w3.org/2000/svg\" height=\"24px\"viewBox=\"0 0 24 24\"\n",
              "       width=\"24px\">\n",
              "    <path d=\"M0 0h24v24H0V0z\" fill=\"none\"/>\n",
              "    <path d=\"M18.56 5.44l.94 2.06.94-2.06 2.06-.94-2.06-.94-.94-2.06-.94 2.06-2.06.94zm-11 1L8.5 8.5l.94-2.06 2.06-.94-2.06-.94L8.5 2.5l-.94 2.06-2.06.94zm10 10l.94 2.06.94-2.06 2.06-.94-2.06-.94-.94-2.06-.94 2.06-2.06.94z\"/><path d=\"M17.41 7.96l-1.37-1.37c-.4-.4-.92-.59-1.43-.59-.52 0-1.04.2-1.43.59L10.3 9.45l-7.72 7.72c-.78.78-.78 2.05 0 2.83L4 21.41c.39.39.9.59 1.41.59.51 0 1.02-.2 1.41-.59l7.78-7.78 2.81-2.81c.8-.78.8-2.07 0-2.86zM5.41 20L4 18.59l7.72-7.72 1.47 1.35L5.41 20z\"/>\n",
              "  </svg>\n",
              "      </button>\n",
              "      \n",
              "  <style>\n",
              "    .colab-df-container {\n",
              "      display:flex;\n",
              "      flex-wrap:wrap;\n",
              "      gap: 12px;\n",
              "    }\n",
              "\n",
              "    .colab-df-convert {\n",
              "      background-color: #E8F0FE;\n",
              "      border: none;\n",
              "      border-radius: 50%;\n",
              "      cursor: pointer;\n",
              "      display: none;\n",
              "      fill: #1967D2;\n",
              "      height: 32px;\n",
              "      padding: 0 0 0 0;\n",
              "      width: 32px;\n",
              "    }\n",
              "\n",
              "    .colab-df-convert:hover {\n",
              "      background-color: #E2EBFA;\n",
              "      box-shadow: 0px 1px 2px rgba(60, 64, 67, 0.3), 0px 1px 3px 1px rgba(60, 64, 67, 0.15);\n",
              "      fill: #174EA6;\n",
              "    }\n",
              "\n",
              "    [theme=dark] .colab-df-convert {\n",
              "      background-color: #3B4455;\n",
              "      fill: #D2E3FC;\n",
              "    }\n",
              "\n",
              "    [theme=dark] .colab-df-convert:hover {\n",
              "      background-color: #434B5C;\n",
              "      box-shadow: 0px 1px 3px 1px rgba(0, 0, 0, 0.15);\n",
              "      filter: drop-shadow(0px 1px 2px rgba(0, 0, 0, 0.3));\n",
              "      fill: #FFFFFF;\n",
              "    }\n",
              "  </style>\n",
              "\n",
              "      <script>\n",
              "        const buttonEl =\n",
              "          document.querySelector('#df-12ff19aa-2e6e-4425-8e3c-e466e921371c button.colab-df-convert');\n",
              "        buttonEl.style.display =\n",
              "          google.colab.kernel.accessAllowed ? 'block' : 'none';\n",
              "\n",
              "        async function convertToInteractive(key) {\n",
              "          const element = document.querySelector('#df-12ff19aa-2e6e-4425-8e3c-e466e921371c');\n",
              "          const dataTable =\n",
              "            await google.colab.kernel.invokeFunction('convertToInteractive',\n",
              "                                                     [key], {});\n",
              "          if (!dataTable) return;\n",
              "\n",
              "          const docLinkHtml = 'Like what you see? Visit the ' +\n",
              "            '<a target=\"_blank\" href=https://colab.research.google.com/notebooks/data_table.ipynb>data table notebook</a>'\n",
              "            + ' to learn more about interactive tables.';\n",
              "          element.innerHTML = '';\n",
              "          dataTable['output_type'] = 'display_data';\n",
              "          await google.colab.output.renderOutput(dataTable, element);\n",
              "          const docLink = document.createElement('div');\n",
              "          docLink.innerHTML = docLinkHtml;\n",
              "          element.appendChild(docLink);\n",
              "        }\n",
              "      </script>\n",
              "    </div>\n",
              "  </div>\n",
              "  "
            ],
            "text/plain": [
              "           2021년 예측       2020년 예측  금액합계2020\n",
              "0      12641.468241   12988.998491   11596.0\n",
              "1     325781.771525  178830.199002  155870.0\n",
              "2      50748.046234   33736.910210   31674.0\n",
              "3     138284.723680  127817.925624  110348.0\n",
              "4      19094.600784   39071.490485   37401.0\n",
              "...             ...            ...       ...\n",
              "1081   27426.908680   16858.544850   18481.0\n",
              "1082   -1162.301106   77075.380518   75421.0\n",
              "1083   30750.479632   20243.098771   18481.0\n",
              "1084    2862.866797   78988.914076   75421.0\n",
              "1085  305916.921674  186523.220170  175786.0\n",
              "\n",
              "[1086 rows x 3 columns]"
            ]
          },
          "metadata": {},
          "execution_count": 51
        }
      ]
    },
    {
      "cell_type": "code",
      "source": [
        "import matplotlib.pyplot as plt\n",
        "p=p.head(50)\n",
        "\n",
        "p.plot() #초록선과 주황선이 거의 일치함 확인 가능"
      ],
      "metadata": {
        "id": "QVJnzJWBpzRz",
        "outputId": "4b4a359b-e434-4073-dfb1-060b8a517e46",
        "colab": {
          "base_uri": "https://localhost:8080/",
          "height": 293
        }
      },
      "execution_count": 53,
      "outputs": [
        {
          "output_type": "execute_result",
          "data": {
            "text/plain": [
              "<matplotlib.axes._subplots.AxesSubplot at 0x7fbcaa567350>"
            ]
          },
          "metadata": {},
          "execution_count": 53
        },
        {
          "output_type": "display_data",
          "data": {
            "image/png": "[encoded data removed]",
            "text/plain": [
              "<Figure size 432x288 with 1 Axes>"
            ]
          },
          "metadata": {
            "needs_background": "light"
          }
        }
      ]
    }
  ]
}